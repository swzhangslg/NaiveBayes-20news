{
 "cells": [
  {
   "cell_type": "markdown",
   "metadata": {},
   "source": [
    "# 划分数据"
   ]
  },
  {
   "cell_type": "markdown",
   "metadata": {},
   "source": [
    "由于要进行五重交叉验证，因此我们要将数据随机等分成五份，在partition文件夹下创建编号为0-4的五个文件夹，每个编号文件夹下都创建20个文件夹对应20个类，将全部文件依类别随机等分成五份移动到对应文件夹下。"
   ]
  },
  {
   "cell_type": "code",
   "execution_count": 1,
   "metadata": {},
   "outputs": [],
   "source": [
    "import os, random, shutil\n",
    "import numpy as np\n",
    "import pandas as pd\n",
    "import matplotlib.pyplot as plt\n",
    "%matplotlib inline"
   ]
  },
  {
   "cell_type": "code",
   "execution_count": 2,
   "metadata": {},
   "outputs": [
    {
     "name": "stdout",
     "output_type": "stream",
     "text": [
      "20\n",
      "['alt.atheism', 'comp.graphics', 'comp.os.ms-windows.misc', 'comp.sys.ibm.pc.hardware', 'comp.sys.mac.hardware', 'comp.windows.x', 'misc.forsale', 'rec.autos', 'rec.motorcycles', 'rec.sport.baseball', 'rec.sport.hockey', 'sci.crypt', 'sci.electronics', 'sci.med', 'sci.space', 'soc.religion.christian', 'talk.politics.guns', 'talk.politics.mideast', 'talk.politics.misc', 'talk.religion.misc']\n"
     ]
    }
   ],
   "source": [
    "pwd = os.getcwd()\n",
    "data_path = pwd + '\\\\20_newsgroups'\n",
    "count = 0\n",
    "for file in os.listdir(data_path): # file 表示的是文件名\n",
    "    count = count+1\n",
    "clas = os.listdir(data_path)\n",
    "print(count)\n",
    "print(clas)"
   ]
  },
  {
   "cell_type": "markdown",
   "metadata": {},
   "source": [
    "以下创建新的文件夹，并移动文件\n",
    "\n",
    "执行过一次后就不要再执行以下两个代码块了"
   ]
  },
  {
   "cell_type": "code",
   "execution_count": null,
   "metadata": {},
   "outputs": [],
   "source": [
    "os.mkdir(pwd+'\\\\partition')\n",
    "for i in range(0,5):\n",
    "    os.mkdir(pwd+'\\\\partition'+'\\\\'+str(i))\n",
    "    for cla in clas:\n",
    "        os.mkdir(pwd+'\\\\partition'+'\\\\'+str(i)+'\\\\'+cla)"
   ]
  },
  {
   "cell_type": "code",
   "execution_count": 10,
   "metadata": {},
   "outputs": [],
   "source": [
    "for cla in clas:\n",
    "    files = os.listdir(data_path+'\\\\'+cla)\n",
    "    random.shuffle(files)\n",
    "    p_list = [files[i::5] for i in range(5)]\n",
    "    for j in range(0,5):\n",
    "        for name in p_list[j]:\n",
    "            shutil.move(data_path+'\\\\'+cla+'\\\\'+name, pwd+'\\\\partition\\\\'+str(j)+'\\\\'+cla+'\\\\')"
   ]
  },
  {
   "cell_type": "markdown",
   "metadata": {},
   "source": [
    "# 参数估计"
   ]
  },
  {
   "cell_type": "markdown",
   "metadata": {},
   "source": [
    "先选取序号4为验证集，序号0-3为训练集。"
   ]
  },
  {
   "cell_type": "markdown",
   "metadata": {},
   "source": [
    "## 计算类别的先验概率\n",
    "统计每一类的文件数目放入N_c中，形成array，然后加总得到文件总数目记为N，用N_c array与N作除法，得到类别的先验概率再取对数。"
   ]
  },
  {
   "cell_type": "code",
   "execution_count": 3,
   "metadata": {},
   "outputs": [
    {
     "name": "stdout",
     "output_type": "stream",
     "text": [
      "[800, 800, 800, 800, 800, 800, 800, 800, 800, 800, 800, 800, 800, 800, 800, 798, 800, 800, 800, 800]\n",
      "[-2.99560727 -2.99560727 -2.99560727 -2.99560727 -2.99560727 -2.99560727\n",
      " -2.99560727 -2.99560727 -2.99560727 -2.99560727 -2.99560727 -2.99560727\n",
      " -2.99560727 -2.99560727 -2.99560727 -2.9981104  -2.99560727 -2.99560727\n",
      " -2.99560727 -2.99560727]\n",
      "15998\n"
     ]
    }
   ],
   "source": [
    "validation = 4\n",
    "N = 0\n",
    "N_c =[]\n",
    "\n",
    "for cla in clas:\n",
    "    filenumber = 0\n",
    "    for i in range(0,5):\n",
    "        if i == validation:\n",
    "            continue\n",
    "        files = os.listdir(pwd+'\\\\'+'partition'+'\\\\'+str(i)+'\\\\'+cla)\n",
    "        filenumber=filenumber+len(files)\n",
    "    N_c.append(filenumber)\n",
    "    N = N + filenumber\n",
    "N_p = np.array(N_c)/N\n",
    "N_p = np.log(N_p)\n",
    "print(N_c)\n",
    "print(N_p)\n",
    "print(N)"
   ]
  },
  {
   "cell_type": "markdown",
   "metadata": {},
   "source": [
    "## 得到类别嵌套列表与文件嵌套列表\n",
    "读取文件，分词，一个文件中的所有词形成一个列表，用append方法将此列表添加进total_df，用extend方法将此列表添加到该类的词项列表l_1中，读取过该类的全部文件后，将得到的该类的词项列表l_1添加到total列表中（用append方法）。最终得到一个类别嵌套列表total，total列表共有20个子列表分别对应20个类，每个子列表中是该类的所有单词（未去重）。最终也得到一个文件嵌套列表total_df，total_df列表中每一个子列表代表一个文件，内含该文件的全部分词。"
   ]
  },
  {
   "cell_type": "code",
   "execution_count": 4,
   "metadata": {},
   "outputs": [
    {
     "name": "stdout",
     "output_type": "stream",
     "text": [
      "alt.atheism\n",
      "comp.graphics\n",
      "comp.os.ms-windows.misc\n",
      "comp.sys.ibm.pc.hardware\n",
      "comp.sys.mac.hardware\n",
      "comp.windows.x\n",
      "misc.forsale\n",
      "rec.autos\n",
      "rec.motorcycles\n",
      "rec.sport.baseball\n",
      "rec.sport.hockey\n",
      "sci.crypt\n",
      "sci.electronics\n",
      "sci.med\n",
      "sci.space\n",
      "soc.religion.christian\n",
      "talk.politics.guns\n",
      "talk.politics.mideast\n",
      "talk.politics.misc\n",
      "talk.religion.misc\n"
     ]
    }
   ],
   "source": [
    "sum = 0\n",
    "total_df=[]\n",
    "total=[]\n",
    "for cla in clas:\n",
    "    l_1=[]\n",
    "    for i in range(0,5):\n",
    "        if i==validation:\n",
    "            continue\n",
    "        files = os.listdir(pwd+'\\\\'+'partition'+'\\\\'+str(i)+'\\\\'+cla) # 文件名\n",
    "        for file in files:\n",
    "            try:\n",
    "                f = open(pwd+'\\\\'+'partition'+'\\\\'+str(i)+'\\\\'+cla+'\\\\'+file,\"r\",encoding='utf8') \n",
    "                line = f.read()\n",
    "                l = line.split()\n",
    "                total_df.append(l)\n",
    "                l_1.extend(l)\n",
    "            except:\n",
    "                sum = sum+1\n",
    "                continue\n",
    "    print(cla)\n",
    "    total.append(l_1)"
   ]
  },
  {
   "cell_type": "markdown",
   "metadata": {},
   "source": [
    "由于windows编码问题，共无法读取63个文件"
   ]
  },
  {
   "cell_type": "code",
   "execution_count": 5,
   "metadata": {},
   "outputs": [
    {
     "data": {
      "text/plain": [
       "63"
      ]
     },
     "execution_count": 5,
     "metadata": {},
     "output_type": "execute_result"
    }
   ],
   "source": [
    "sum"
   ]
  },
  {
   "cell_type": "markdown",
   "metadata": {},
   "source": [
    "## 特征选取（基于文档频率）"
   ]
  },
  {
   "cell_type": "markdown",
   "metadata": {},
   "source": [
    "### 计算每个词的文档频率\n",
    "遍历total_df，对于每个文件中的词，用set去重，保证重复的词只遍历一次，在字典中添加或更新。用其它方法效率很低。"
   ]
  },
  {
   "cell_type": "code",
   "execution_count": 6,
   "metadata": {},
   "outputs": [],
   "source": [
    "df_dic =  {}\n",
    "for file in total_df:\n",
    "    for word in set(file):\n",
    "        if word in df_dic:\n",
    "            df_dic[word]+=1\n",
    "        else:\n",
    "            df_dic[word]=1"
   ]
  },
  {
   "cell_type": "markdown",
   "metadata": {},
   "source": [
    "### 对频率小于某个阈值或大于某个阈值的词项删除\n",
    "注意这里不能遍历字典的同时删除字典中的键值对，只有进行这样的遍历，才能同时对字典进行改动：'for key in list(df_dic.keys()):'\n",
    "\n",
    "词表B的大小为当前df_dic的大小。\n"
   ]
  },
  {
   "cell_type": "code",
   "execution_count": 7,
   "metadata": {},
   "outputs": [],
   "source": [
    "dele=[]\n",
    "up = 800\n",
    "down = 3\n",
    "for key in list(df_dic.keys()):\n",
    "    if df_dic[key]>up or df_dic[key]<down: # 选取阈值\n",
    "        dele.append(key)\n",
    "        df_dic.pop(key)"
   ]
  },
  {
   "cell_type": "code",
   "execution_count": 8,
   "metadata": {},
   "outputs": [
    {
     "data": {
      "text/plain": [
       "315247"
      ]
     },
     "execution_count": 8,
     "metadata": {},
     "output_type": "execute_result"
    }
   ],
   "source": [
    "len(dele)"
   ]
  },
  {
   "cell_type": "markdown",
   "metadata": {},
   "source": [
    "可以看出共删除了315247个词项。"
   ]
  },
  {
   "cell_type": "code",
   "execution_count": 9,
   "metadata": {},
   "outputs": [
    {
     "data": {
      "text/plain": [
       "90266"
      ]
     },
     "execution_count": 9,
     "metadata": {},
     "output_type": "execute_result"
    }
   ],
   "source": [
    "b = len(df_dic)\n",
    "b"
   ]
  },
  {
   "cell_type": "markdown",
   "metadata": {},
   "source": [
    "可以看出此时词表中剩下的词项个数为90266个。"
   ]
  },
  {
   "cell_type": "markdown",
   "metadata": {},
   "source": [
    "## 计算词项出现的条件概率\n",
    "对于每一类的所有词（这个词必须在现在的词表中）统计词在该类中出现的词频，将每个类的这个信息存入字典(词项：词频)，20个类对应20个字典，再将这些字典存入列表。再作计算：\n",
    "`dic_1[key] = np.log((dic_1[key]+k)/(a+b*k))`\n",
    "\n",
    "a表示词表中的词出现在该类中的词频之和（对于类中的每个词（允许词重复），如果该词出现在了df_dic词表中，a加1），b表示词表数目B。\n",
    "这里的k即为lambda，表示平滑选取的超参数。\n"
   ]
  },
  {
   "cell_type": "code",
   "execution_count": 10,
   "metadata": {},
   "outputs": [
    {
     "name": "stdout",
     "output_type": "stream",
     "text": [
      "110649\n",
      "87362\n",
      "70254\n",
      "69909\n",
      "63586\n",
      "93943\n",
      "62138\n",
      "77757\n",
      "74131\n",
      "84562\n",
      "110014\n",
      "124162\n",
      "74627\n",
      "106528\n",
      "109587\n",
      "129021\n",
      "126613\n",
      "188563\n",
      "146996\n",
      "122820\n"
     ]
    }
   ],
   "source": [
    "k  = 1\n",
    "pdic=[]\n",
    "for cla in total:\n",
    "    dic_1={}\n",
    "    a=0\n",
    "    for word in cla:\n",
    "        if word in df_dic:\n",
    "            a+=1\n",
    "            if word in dic_1:\n",
    "                dic_1[word] += 1\n",
    "            else:\n",
    "                dic_1[word] =1\n",
    "    print(a)\n",
    "    for key in dic_1:\n",
    "        dic_1[key] = np.log((dic_1[key]+k)/(a+b*k))\n",
    "    pdic.append(dic_1)"
   ]
  },
  {
   "cell_type": "markdown",
   "metadata": {},
   "source": [
    "# 测试"
   ]
  },
  {
   "cell_type": "markdown",
   "metadata": {},
   "source": [
    "对测试集按类循环，测试每一类的所有文件，对每一文件进行词频统计，存入字典（词项：词频），一共20个类，要根据先前存的参数计算该文件属于某一类的概率值。分类器将该文件划分到概率值最高的那一类。如果这一文件的某个词不存在于存储的参数中，使用平滑方法来避免0概率问题。还应注意如果该文件中某词多次出现，那么应该多次相加。预测出该文件属于某一类后在结果向量中其对应位置加1，将20个类的结果向量堆叠，最终得到混淆矩阵。"
   ]
  },
  {
   "cell_type": "code",
   "execution_count": 11,
   "metadata": {},
   "outputs": [
    {
     "name": "stdout",
     "output_type": "stream",
     "text": [
      "[160.   0.   0.   0.   1.   0.   9.   0.   1.   0.   0.   0.   1.   0.\n",
      "   0.   0.   0.   0.   0.  26.]\n",
      "[  0. 169.   3.   3.   5.   6.  12.   0.   0.   0.   0.   0.   2.   0.\n",
      "   0.   0.   0.   0.   0.   0.]\n",
      "[  0.   4. 161.  19.   3.   0.  13.   0.   0.   0.   0.   0.   0.   0.\n",
      "   0.   0.   0.   0.   0.   0.]\n",
      "[  0.   1.   4. 175.   8.   0.  12.   0.   0.   0.   0.   0.   0.   0.\n",
      "   0.   0.   0.   0.   0.   0.]\n",
      "[  0.   1.   2.   0. 185.   0.   6.   0.   0.   0.   0.   0.   3.   0.\n",
      "   0.   0.   0.   0.   0.   0.]\n",
      "[  0.   5.   1.   2.   4. 178.  10.   0.   0.   0.   0.   0.   0.   0.\n",
      "   0.   0.   0.   0.   0.   0.]\n",
      "[  0.   0.   1.   1.   3.   0. 187.   4.   0.   0.   0.   0.   4.   0.\n",
      "   0.   0.   0.   0.   0.   0.]\n",
      "[  0.   0.   0.   0.   0.   0.  12. 178.   4.   0.   0.   0.   6.   0.\n",
      "   0.   0.   0.   0.   0.   0.]\n",
      "[  0.   0.   0.   0.   0.   0.   6.   1. 193.   0.   0.   0.   0.   0.\n",
      "   0.   0.   0.   0.   0.   0.]\n",
      "[  0.   0.   0.   0.   1.   0.   6.   0.   1. 191.   0.   0.   0.   0.\n",
      "   0.   0.   0.   0.   0.   0.]\n",
      "[  0.   0.   0.   0.   2.   0.   2.   0.   0.   3. 193.   0.   0.   0.\n",
      "   0.   0.   0.   0.   0.   0.]\n",
      "[  0.   3.   0.   0.   4.   0.  15.   0.   0.   1.   0. 175.   2.   0.\n",
      "   0.   0.   0.   0.   0.   0.]\n",
      "[  0.   2.   0.   4.   4.   0.  10.   0.   0.   0.   0.   0. 177.   0.\n",
      "   0.   0.   0.   0.   0.   0.]\n",
      "[  0.   2.   1.   0.   3.   0.  20.   0.   2.   0.   1.   0.   6. 164.\n",
      "   1.   0.   0.   0.   0.   0.]\n",
      "[  0.   3.   0.   0.   3.   0.   5.   0.   1.   0.   0.   0.   2.   0.\n",
      " 184.   0.   2.   0.   0.   0.]\n",
      "[  5.   0.   0.   1.   5.   0.   8.   0.   3.   0.   0.   0.   1.   1.\n",
      "   0. 175.   0.   0.   0.   0.]\n",
      "[  0.   0.   0.   0.   2.   0.  10.   2.   2.   0.   0.   1.   0.   0.\n",
      "   0.   0. 176.   0.   3.   4.]\n",
      "[  2.   0.   0.   0.   3.   0.  20.   2.   8.   3.   0.   0.   0.   0.\n",
      "   0.   0.   1. 154.   7.   0.]\n",
      "[  2.   0.   0.   1.   6.   0.  20.   7.   4.   1.   0.   0.   0.   0.\n",
      "   1.   0.  11.   8. 119.  20.]\n",
      "[56.  0.  0.  1.  1.  0.  5.  0.  0.  0.  0.  0.  1.  1.  0.  3. 10.  0.\n",
      " 24. 97.]\n"
     ]
    }
   ],
   "source": [
    "sum=0\n",
    "for cla in clas:\n",
    "    coun = np.zeros(20)\n",
    "    files=os.listdir(pwd+'\\\\'+'partition'+'\\\\'+str(validation)+'\\\\'+cla)\n",
    "    for file in files:\n",
    "        di = {}\n",
    "        try:\n",
    "            f = open(pwd+'\\\\'+'partition'+'\\\\'+str(validation)+'\\\\'+cla +'\\\\'+file,\"r\",encoding='utf8')\n",
    "            line = f.read()\n",
    "        except:\n",
    "            sum=sum+1\n",
    "            continue\n",
    "        l = line.split()\n",
    "        for word in l:\n",
    "            if word in di:\n",
    "                di[word]+=1\n",
    "            else:\n",
    "                di[word]=1\n",
    "        reli = []\n",
    "        for i in range(0,20):\n",
    "            noex = np.log(k/(len(total[i])+b*k))\n",
    "            re = N_p[i]\n",
    "            for key in di:\n",
    "                if key in pdic[i]:\n",
    "                    tem = di[key]*pdic[i][key]\n",
    "                else:\n",
    "                    tem = di[key]*noex\n",
    "                re = re+tem\n",
    "            reli.append(re)\n",
    "        ind = reli.index(max(reli))\n",
    "        coun[ind] = coun[ind]+1\n",
    "    print(coun)\n",
    "    if cla == 'alt.atheism':\n",
    "        m = coun\n",
    "    else:\n",
    "        m = np.vstack((m,coun))"
   ]
  },
  {
   "cell_type": "markdown",
   "metadata": {},
   "source": [
    "由于windows的编码问题，无法读取而跳过的文件"
   ]
  },
  {
   "cell_type": "code",
   "execution_count": 12,
   "metadata": {},
   "outputs": [
    {
     "data": {
      "text/plain": [
       "10"
      ]
     },
     "execution_count": 12,
     "metadata": {},
     "output_type": "execute_result"
    }
   ],
   "source": [
    "sum"
   ]
  },
  {
   "cell_type": "markdown",
   "metadata": {},
   "source": [
    "根据混淆矩阵计算每一类的precision（对角元素除以其所在列）、recall（对角元素除以其所在行）以及F值，最后使用宏平均，再计算准确率（accuracy）（对角元素加和除以所有元素之和）。"
   ]
  },
  {
   "cell_type": "code",
   "execution_count": 13,
   "metadata": {},
   "outputs": [
    {
     "name": "stdout",
     "output_type": "stream",
     "text": [
      "0.8713541939352843\n",
      "0.8501138712843301\n",
      "0.8534920611464459\n",
      "0.8500877412885435\n"
     ]
    }
   ],
   "source": [
    "P_list = []\n",
    "R_list = []\n",
    "F_list = []\n",
    "acc = 0\n",
    "for i in range(0,20):\n",
    "    p = m[i][i]/np.sum(m.T[i])\n",
    "    # print(p)\n",
    "    r = m[i][i]/np.sum(m[i])\n",
    "    acc = acc+m[i][i]\n",
    "    f = 2*p*r/(p+r)\n",
    "    P_list.append(p)\n",
    "    R_list.append(r)\n",
    "    F_list.append(f)\n",
    "p = np.mean(P_list)\n",
    "r = np.mean(R_list)\n",
    "f = np.mean(F_list)\n",
    "a = acc/m.sum()\n",
    "print(p)\n",
    "print(r)\n",
    "print(f)\n",
    "print(a)"
   ]
  },
  {
   "cell_type": "markdown",
   "metadata": {},
   "source": [
    "# 封装函数"
   ]
  },
  {
   "cell_type": "markdown",
   "metadata": {},
   "source": [
    "为便于循环，将以上代码封装入函数\n",
    "\n",
    "validation：选编号几作为验证集；\n",
    "k：选几作为平滑参数，一般选1，即为拉普拉斯平滑；\n",
    "up：当文档频率大于几时，将其从词表中删除；\n",
    "down：当文档频率小于几时，将其从词表中删除。"
   ]
  },
  {
   "cell_type": "code",
   "execution_count": 3,
   "metadata": {},
   "outputs": [],
   "source": [
    "def cal(validation,k,up,down):\n",
    "    N = 0\n",
    "    N_c =[]\n",
    "    for cla in clas:\n",
    "        filenumber = 0\n",
    "        for i in range(0,5):\n",
    "            if i == validation:\n",
    "                continue\n",
    "            files = os.listdir(pwd+'\\\\'+'partition'+'\\\\'+str(i)+'\\\\'+cla)\n",
    "            filenumber=filenumber+len(files)\n",
    "        N_c.append(filenumber)\n",
    "        N = N + filenumber\n",
    "    N_p = np.array(N_c)/N\n",
    "    N_p = np.log(N_p)\n",
    "    \n",
    "    total_df=[]\n",
    "    total=[]\n",
    "    for cla in clas:\n",
    "        l_1=[]\n",
    "        for i in range(0,5):\n",
    "            if i==validation:\n",
    "                continue\n",
    "            files = os.listdir(pwd+'\\\\'+'partition'+'\\\\'+str(i)+'\\\\'+cla) # 文件名\n",
    "            for file in files:\n",
    "                try:\n",
    "                    f = open(pwd+'\\\\'+'partition'+'\\\\'+str(i)+'\\\\'+cla+'\\\\'+file,\"r\",encoding='utf8') \n",
    "                    line = f.read()\n",
    "                    l = line.split()\n",
    "                    total_df.append(l)\n",
    "                    l_1.extend(l)\n",
    "                except:\n",
    "                    continue\n",
    "        # print(cla)\n",
    "        total.append(l_1)\n",
    "    df_dic =  {}\n",
    "    \n",
    "    for file in total_df:\n",
    "        for word in set(file):\n",
    "            if word in df_dic:\n",
    "                df_dic[word]+=1\n",
    "            else:\n",
    "                df_dic[word]=1\n",
    "    \n",
    "    dele=[]\n",
    "    for key in list(df_dic.keys()):\n",
    "        if df_dic[key]>up or df_dic[key]<down: # 选取阈值\n",
    "            dele.append(key)\n",
    "            df_dic.pop(key)\n",
    "    b = len(df_dic)\n",
    "    \n",
    "    pdic=[]\n",
    "    for cla in total:\n",
    "        dic_1={}\n",
    "        a=0\n",
    "        for word in cla:\n",
    "            if word in df_dic:\n",
    "                a+=1\n",
    "                if word in dic_1:\n",
    "                    dic_1[word] += 1\n",
    "                else:\n",
    "                    dic_1[word] =1\n",
    "        for key in dic_1:\n",
    "            dic_1[key] = np.log((dic_1[key]+k)/(a+b*k))\n",
    "        pdic.append(dic_1)\n",
    "        \n",
    "        \n",
    "    for cla in clas:\n",
    "        coun = np.zeros(20)\n",
    "        files=os.listdir(pwd+'\\\\'+'partition'+'\\\\'+str(validation)+'\\\\'+cla)\n",
    "        for file in files:\n",
    "            di = {}\n",
    "            try:\n",
    "                f = open(pwd+'\\\\'+'partition'+'\\\\'+str(validation)+'\\\\'+cla +'\\\\'+file,\"r\",encoding='utf8')\n",
    "                line = f.read()\n",
    "            except:\n",
    "                continue\n",
    "            l = line.split()\n",
    "            for word in l:\n",
    "                if word in di:\n",
    "                    di[word]+=1\n",
    "                else:\n",
    "                    di[word]=1\n",
    "            reli = []\n",
    "            for i in range(0,20):\n",
    "                noex = np.log(k/(len(total[i])+b*k))\n",
    "                re = N_p[i]\n",
    "                for key in di:\n",
    "                    if key in pdic[i]:\n",
    "                        tem = di[key]*pdic[i][key]\n",
    "                    else:\n",
    "                        tem = di[key]*noex\n",
    "                    re = re+tem\n",
    "                reli.append(re)\n",
    "            ind = reli.index(max(reli))\n",
    "            coun[ind] = coun[ind]+1\n",
    "        if cla == 'alt.atheism':\n",
    "            m = coun\n",
    "        else:\n",
    "            m = np.vstack((m,coun))\n",
    "            \n",
    "    P_list = []\n",
    "    R_list = []\n",
    "    F_list = []\n",
    "    acc = 0\n",
    "    for i in range(0,20):\n",
    "        p = m[i][i]/np.sum(m.T[i])\n",
    "    # print(p)\n",
    "        r = m[i][i]/np.sum(m[i])\n",
    "        acc = acc+m[i][i]\n",
    "        f = 2*p*r/(p+r)\n",
    "        P_list.append(p)\n",
    "        R_list.append(r)\n",
    "        F_list.append(f)\n",
    "    p = np.mean(P_list)\n",
    "    r = np.mean(R_list)\n",
    "    f = np.mean(F_list)\n",
    "    a = acc/m.sum()\n",
    "#     print(p)\n",
    "#     print(r)\n",
    "#     print(f)\n",
    "#     print(a)\n",
    "    return p,r,f,a"
   ]
  },
  {
   "cell_type": "markdown",
   "metadata": {},
   "source": [
    "进行一次尝试"
   ]
  },
  {
   "cell_type": "code",
   "execution_count": 4,
   "metadata": {},
   "outputs": [
    {
     "data": {
      "text/plain": [
       "(0.8713541939352843,\n",
       " 0.8501138712843301,\n",
       " 0.8534920611464459,\n",
       " 0.8500877412885435)"
      ]
     },
     "execution_count": 4,
     "metadata": {},
     "output_type": "execute_result"
    }
   ],
   "source": [
    "cal(4,1,800,3)"
   ]
  },
  {
   "cell_type": "markdown",
   "metadata": {},
   "source": [
    "为五重交叉验证封装函数，执行该函数就做了五重交叉验证。"
   ]
  },
  {
   "cell_type": "code",
   "execution_count": 5,
   "metadata": {},
   "outputs": [],
   "source": [
    "def val(k,up,down):\n",
    "    pl = []\n",
    "    rl = []\n",
    "    fl = []\n",
    "    al = []\n",
    "    for v in range(0,5):\n",
    "        p,r,f,a = cal(v,k,up,down)\n",
    "        pl.append(p)\n",
    "        rl.append(r)\n",
    "        fl.append(f)\n",
    "        al.append(a)\n",
    "    return [np.mean(pl),np.mean(rl),np.mean(fl),np.mean(al)]"
   ]
  },
  {
   "cell_type": "markdown",
   "metadata": {},
   "source": [
    "# 交叉验证"
   ]
  },
  {
   "cell_type": "markdown",
   "metadata": {},
   "source": [
    "## 选取down"
   ]
  },
  {
   "cell_type": "markdown",
   "metadata": {},
   "source": [
    "首先固定k=1与up=800，调整down=0,1,2,3"
   ]
  },
  {
   "cell_type": "code",
   "execution_count": 20,
   "metadata": {},
   "outputs": [],
   "source": [
    "re = []\n",
    "re.append(val(1,800,0))\n",
    "re.append(val(1,800,1))\n",
    "re.append(val(1,800,2))\n",
    "re.append(val(1,800,3))"
   ]
  },
  {
   "cell_type": "code",
   "execution_count": 21,
   "metadata": {},
   "outputs": [
    {
     "data": {
      "text/plain": [
       "[[0.8995437614007644,\n",
       "  0.9002728125379111,\n",
       "  0.899179076957221,\n",
       "  0.9002214250253735],\n",
       " [0.8995437614007644,\n",
       "  0.9002728125379111,\n",
       "  0.899179076957221,\n",
       "  0.9002214250253735],\n",
       " [0.8822574676202348,\n",
       "  0.8761641429272314,\n",
       "  0.8755251798783844,\n",
       "  0.8760784080556017],\n",
       " [0.867477772242989,\n",
       "  0.8440398728585328,\n",
       "  0.8465682916694748,\n",
       "  0.8439054641159037]]"
      ]
     },
     "execution_count": 21,
     "metadata": {},
     "output_type": "execute_result"
    }
   ],
   "source": [
    "re"
   ]
  },
  {
   "cell_type": "code",
   "execution_count": 22,
   "metadata": {},
   "outputs": [],
   "source": [
    "ret = np.array(re).T"
   ]
  },
  {
   "cell_type": "code",
   "execution_count": 23,
   "metadata": {},
   "outputs": [
    {
     "data": {
      "text/plain": [
       "array([[0.89954376, 0.89954376, 0.88225747, 0.86747777],\n",
       "       [0.90027281, 0.90027281, 0.87616414, 0.84403987],\n",
       "       [0.89917908, 0.89917908, 0.87552518, 0.84656829],\n",
       "       [0.90022143, 0.90022143, 0.87607841, 0.84390546]])"
      ]
     },
     "execution_count": 23,
     "metadata": {},
     "output_type": "execute_result"
    }
   ],
   "source": [
    "ret"
   ]
  },
  {
   "cell_type": "code",
   "execution_count": 26,
   "metadata": {},
   "outputs": [
    {
     "data": {
      "image/png": "[encoded data removed]",
      "text/plain": [
       "<Figure size 432x288 with 1 Axes>"
      ]
     },
     "metadata": {
      "needs_background": "light"
     },
     "output_type": "display_data"
    }
   ],
   "source": [
    "li = [0,1,2,3]\n",
    "plt.plot(li,ret[0], color = 'red', label = 'precision')\n",
    "plt.plot(li,ret[1], color = 'green', label = 'recall')\n",
    "plt.plot(li,ret[2], color = 'blue',label = 'f1')\n",
    "plt.plot(li,ret[3],color = 'yellow',label='accuracy')\n",
    "plt.xlabel('down')\n",
    "plt.ylabel('value')\n",
    "plt.legend(['precision', 'recall', 'f1','accuracy'])\n",
    "plt.show()"
   ]
  },
  {
   "cell_type": "markdown",
   "metadata": {},
   "source": [
    "选取down=0"
   ]
  },
  {
   "cell_type": "markdown",
   "metadata": {},
   "source": [
    "## 选取up"
   ]
  },
  {
   "cell_type": "markdown",
   "metadata": {},
   "source": [
    "其次固定k=1与down=0 ,调整up=400,600,800,1000"
   ]
  },
  {
   "cell_type": "code",
   "execution_count": 27,
   "metadata": {},
   "outputs": [
    {
     "data": {
      "text/plain": [
       "array([[0.87648033, 0.88687665, 0.89954376, 0.90023192],\n",
       "       [0.87430264, 0.88673835, 0.90027281, 0.90107103],\n",
       "       [0.87393779, 0.88594529, 0.89917908, 0.89993004],\n",
       "       [0.87427182, 0.8867197 , 0.90022143, 0.90102449]])"
      ]
     },
     "execution_count": 27,
     "metadata": {},
     "output_type": "execute_result"
    }
   ],
   "source": [
    "re = []\n",
    "re.append(val(1,400,0))\n",
    "re.append(val(1,600,0))\n",
    "re.append(val(1,800,0))\n",
    "re.append(val(1,1000,0))\n",
    "ret = np.array(re).T\n",
    "ret"
   ]
  },
  {
   "cell_type": "code",
   "execution_count": 28,
   "metadata": {},
   "outputs": [
    {
     "data": {
      "image/png": "[encoded data removed]",
      "text/plain": [
       "<Figure size 432x288 with 1 Axes>"
      ]
     },
     "metadata": {
      "needs_background": "light"
     },
     "output_type": "display_data"
    }
   ],
   "source": [
    "li = [400,600,800,1000]\n",
    "plt.plot(li,ret[0], color = 'red', label = 'precision')\n",
    "plt.plot(li,ret[1], color = 'green', label = 'recall')\n",
    "plt.plot(li,ret[2], color = 'blue',label = 'f1')\n",
    "plt.plot(li,ret[3],color = 'yellow',label='accuracy')\n",
    "plt.xlabel('up')\n",
    "plt.ylabel('value')\n",
    "plt.legend(['precision', 'recall', 'f1','accuracy'])\n",
    "plt.show()"
   ]
  },
  {
   "cell_type": "markdown",
   "metadata": {},
   "source": [
    "似乎仍然有增长的趋势，故继续调整up=1200,1500"
   ]
  },
  {
   "cell_type": "code",
   "execution_count": 29,
   "metadata": {},
   "outputs": [
    {
     "data": {
      "text/plain": [
       "array([[0.8989063 , 0.89855453],\n",
       "       [0.8995657 , 0.89925912],\n",
       "       [0.89845178, 0.89815188],\n",
       "       [0.89951887, 0.8992182 ]])"
      ]
     },
     "execution_count": 29,
     "metadata": {},
     "output_type": "execute_result"
    }
   ],
   "source": [
    "re = []\n",
    "re.append(val(1,1200,0))\n",
    "re.append(val(1,1500,0))\n",
    "ret = np.array(re).T\n",
    "ret"
   ]
  },
  {
   "cell_type": "code",
   "execution_count": 31,
   "metadata": {},
   "outputs": [
    {
     "data": {
      "image/png": "[encoded data removed]",
      "text/plain": [
       "<Figure size 432x288 with 1 Axes>"
      ]
     },
     "metadata": {
      "needs_background": "light"
     },
     "output_type": "display_data"
    }
   ],
   "source": [
    "li = [1200,1500]\n",
    "plt.plot(li,ret[0], color = 'red', label = 'precision')\n",
    "plt.plot(li,ret[1], color = 'green', label = 'recall')\n",
    "plt.plot(li,ret[2], color = 'blue',label = 'f1')\n",
    "plt.plot(li,ret[3],color = 'yellow',label='accuracy')\n",
    "plt.xlabel('up')\n",
    "plt.ylabel('value')\n",
    "plt.legend(['precision', 'recall', 'f1','accuracy'])\n",
    "plt.show()"
   ]
  },
  {
   "cell_type": "markdown",
   "metadata": {},
   "source": [
    "选取up=1000"
   ]
  },
  {
   "cell_type": "markdown",
   "metadata": {},
   "source": [
    "## 选取k(平滑值)"
   ]
  },
  {
   "cell_type": "markdown",
   "metadata": {},
   "source": [
    "最后固定up=1000 与down= 0，调整k=0.5，1，1.5，2"
   ]
  },
  {
   "cell_type": "code",
   "execution_count": 6,
   "metadata": {},
   "outputs": [
    {
     "data": {
      "text/plain": [
       "array([[0.89600694, 0.90023192, 0.89808941, 0.89667636],\n",
       "       [0.89576278, 0.90107103, 0.89905534, 0.89749267],\n",
       "       [0.89486035, 0.89993004, 0.89779604, 0.89623853],\n",
       "       [0.89570464, 0.90102449, 0.89901707, 0.89746051]])"
      ]
     },
     "execution_count": 6,
     "metadata": {},
     "output_type": "execute_result"
    }
   ],
   "source": [
    "re = []\n",
    "re.append(val(0.5,1000,0))\n",
    "re.append(val(1,1000,0))\n",
    "re.append(val(1.5,1000,0))\n",
    "re.append(val(2,1000,0))\n",
    "ret = np.array(re).T\n",
    "ret"
   ]
  },
  {
   "cell_type": "code",
   "execution_count": 9,
   "metadata": {},
   "outputs": [
    {
     "data": {
      "image/png": "[encoded data removed]",
      "text/plain": [
       "<Figure size 432x288 with 1 Axes>"
      ]
     },
     "metadata": {
      "needs_background": "light"
     },
     "output_type": "display_data"
    }
   ],
   "source": [
    "li = [0.5,1,1.5,2]\n",
    "plt.plot(li,ret[0], color = 'red', label = 'precision')\n",
    "plt.plot(li,ret[1], color = 'green', label = 'recall')\n",
    "plt.plot(li,ret[2], color = 'blue',label = 'f1')\n",
    "plt.plot(li,ret[3],color = 'yellow',label='accuracy')\n",
    "plt.xlabel('k')\n",
    "plt.ylabel('value')\n",
    "plt.legend(['precision', 'recall', 'f1','accuracy'])\n",
    "plt.show()"
   ]
  },
  {
   "cell_type": "markdown",
   "metadata": {},
   "source": [
    "选取k=1,还是拉普拉斯平滑更好。"
   ]
  },
  {
   "cell_type": "markdown",
   "metadata": {},
   "source": [
    "综上，应该选择k=1,up=1000,down=0，也就是将文档频率超过1000的词项删除，并且选择拉普拉斯平滑。"
   ]
  },
  {
   "cell_type": "code",
   "execution_count": 10,
   "metadata": {},
   "outputs": [
    {
     "name": "stdout",
     "output_type": "stream",
     "text": [
      "[0.9002319230403846, 0.9010710258265767, 0.8999300400797802, 0.9010244869792097]\n"
     ]
    }
   ],
   "source": [
    "rep = val(1,1000,0)\n",
    "print(rep)"
   ]
  },
  {
   "cell_type": "markdown",
   "metadata": {},
   "source": [
    "五重交叉验证结果：\n",
    "\n",
    "|  指标   | 数值  |\n",
    "|  ----  | ----  |\n",
    "| precision  | 0.9002319230403846 |\n",
    "| recall  | 0.9010710258265767 |\n",
    "| f1  | 0.8999300400797802 |\n",
    "| accuracy  | 0.9010244869792097 |\n"
   ]
  },
  {
   "cell_type": "code",
   "execution_count": null,
   "metadata": {},
   "outputs": [],
   "source": []
  }
 ],
 "metadata": {
  "kernelspec": {
   "display_name": "Python 3 (ipykernel)",
   "language": "python",
   "name": "python3"
  },
  "language_info": {
   "codemirror_mode": {
    "name": "ipython",
    "version": 3
   },
   "file_extension": ".py",
   "mimetype": "text/x-python",
   "name": "python",
   "nbconvert_exporter": "python",
   "pygments_lexer": "ipython3",
   "version": "3.9.7"
  },
  "toc": {
   "base_numbering": 1,
   "nav_menu": {},
   "number_sections": true,
   "sideBar": true,
   "skip_h1_title": false,
   "title_cell": "Table of Contents",
   "title_sidebar": "Contents",
   "toc_cell": false,
   "toc_position": {},
   "toc_section_display": true,
   "toc_window_display": false
  },
  "varInspector": {
   "cols": {
    "lenName": 16,
    "lenType": 16,
    "lenVar": 40
   },
   "kernels_config": {
    "python": {
     "delete_cmd_postfix": "",
     "delete_cmd_prefix": "del ",
     "library": "var_list.py",
     "varRefreshCmd": "print(var_dic_list())"
    },
    "r": {
     "delete_cmd_postfix": ") ",
     "delete_cmd_prefix": "rm(",
     "library": "var_list.r",
     "varRefreshCmd": "cat(var_dic_list()) "
    }
   },
   "types_to_exclude": [
    "module",
    "function",
    "builtin_function_or_method",
    "instance",
    "_Feature"
   ],
   "window_display": false
  }
 },
 "nbformat": 4,
 "nbformat_minor": 2
}
